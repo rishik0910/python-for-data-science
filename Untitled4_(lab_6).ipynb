{
  "nbformat": 4,
  "nbformat_minor": 0,
  "metadata": {
    "colab": {
      "provenance": [],
      "authorship_tag": "ABX9TyM9de6JOmSV0AbLodtQ9es8",
      "include_colab_link": true
    },
    "kernelspec": {
      "name": "python3",
      "display_name": "Python 3"
    },
    "language_info": {
      "name": "python"
    }
  },
  "cells": [
    {
      "cell_type": "markdown",
      "metadata": {
        "id": "view-in-github",
        "colab_type": "text"
      },
      "source": [
        "<a href=\"https://colab.research.google.com/github/rishik0910/python-for-data-science/blob/main/Untitled4_(lab_6).ipynb\" target=\"_parent\"><img src=\"https://colab.research.google.com/assets/colab-badge.svg\" alt=\"Open In Colab\"/></a>"
      ]
    },
    {
      "cell_type": "code",
      "source": [
        " import pandas as pd\n",
        " data = {\n",
        " \"TransactionID\": [101, 102, 103, 104, 105, 101, 103],\n",
        " \"Customer\": [\"Alice\", \"Bob\", \"Charlie\", \"David\", \"Eva\", \"Alice\", \"Charlie\"],\n",
        " \"Product\": [\"Shoes\", \"Shirt\", \"Bag\", \"Watch\", \"Shoes\", \"Shoes\", \"Bag\"],\n",
        " \"Amount\": [200, 500, 700, 1000, 200, 200, 700],\n",
        " \"Date\": [\"2025-01-01\", \"2025-01-02\", \"2025-01-03\",\n",
        " \"2025-01-04\", \"2025-01-05\", \"2025-01-01\", \"2025-01-03\"]\n",
        " }\n",
        " df = pd.DataFrame(data)\n",
        " print(\"Original Dataset:\")\n",
        " print(df)\n",
        " print(\"\\nDuplicate count:\", df.duplicated().sum())\n",
        " df_cleaned = df.drop_duplicates()\n",
        " print(\"\\nCleaned Dataset:\")\n",
        " print(df_cleaned)\n",
        " print(\"\\nDuplicate count after cleaning:\", df_cleaned.duplicated().sum())"
      ],
      "metadata": {
        "colab": {
          "base_uri": "https://localhost:8080/"
        },
        "id": "c_Nt2GPD8xjp",
        "outputId": "cb321e80-a016-4a63-8dde-9943adbf43bd"
      },
      "execution_count": 3,
      "outputs": [
        {
          "output_type": "stream",
          "name": "stdout",
          "text": [
            "Original Dataset:\n",
            "   TransactionID Customer Product  Amount        Date\n",
            "0            101    Alice   Shoes     200  2025-01-01\n",
            "1            102      Bob   Shirt     500  2025-01-02\n",
            "2            103  Charlie     Bag     700  2025-01-03\n",
            "3            104    David   Watch    1000  2025-01-04\n",
            "4            105      Eva   Shoes     200  2025-01-05\n",
            "5            101    Alice   Shoes     200  2025-01-01\n",
            "6            103  Charlie     Bag     700  2025-01-03\n",
            "\n",
            "Duplicate count: 2\n",
            "\n",
            "Cleaned Dataset:\n",
            "   TransactionID Customer Product  Amount        Date\n",
            "0            101    Alice   Shoes     200  2025-01-01\n",
            "1            102      Bob   Shirt     500  2025-01-02\n",
            "2            103  Charlie     Bag     700  2025-01-03\n",
            "3            104    David   Watch    1000  2025-01-04\n",
            "4            105      Eva   Shoes     200  2025-01-05\n",
            "\n",
            "Duplicate count after cleaning: 0\n"
          ]
        }
      ]
    },
    {
      "cell_type": "code",
      "source": [
        " import pandas as pd\n",
        " data = {\n",
        " \"EmployeeID\": [1, 2, 3, 4],\n",
        " \"Name\": [\"Alice\", \"Bob\", \"Charlie\", \"David\"],\n",
        " \"Salary\": [\"50000\", \"60000\", \"55000\", \"75000\"],\n",
        " \"Joining_Date\": [\"2023-01-15\", \"2022-11-20\", \"2021-07-05\", \"2020-03-10\"]\n",
        " }\n",
        " df = pd.DataFrame(data)\n",
        " print(\"Original Dataset:\")\n",
        " print(df)\n",
        " print(\"\\nOriginal Data Types:\")\n",
        " print(df.dtypes)\n",
        " df[\"Salary\"] = pd.to_numeric(df[\"Salary\"])\n",
        " df[\"Joining_Date\"] = pd.to_datetime(df[\"Joining_Date\"])\n",
        " print(\"\\nCleaned Dataset:\")\n",
        " print(df)\n",
        " print(\"\\nCorrected Data Types:\")\n",
        " print(df.dtypes)"
      ],
      "metadata": {
        "colab": {
          "base_uri": "https://localhost:8080/"
        },
        "id": "biU4n7Yr86p2",
        "outputId": "ab12110e-d7a5-4088-8e59-cc15c099be7d"
      },
      "execution_count": 4,
      "outputs": [
        {
          "output_type": "stream",
          "name": "stdout",
          "text": [
            "Original Dataset:\n",
            "   EmployeeID     Name Salary Joining_Date\n",
            "0           1    Alice  50000   2023-01-15\n",
            "1           2      Bob  60000   2022-11-20\n",
            "2           3  Charlie  55000   2021-07-05\n",
            "3           4    David  75000   2020-03-10\n",
            "\n",
            "Original Data Types:\n",
            "EmployeeID       int64\n",
            "Name            object\n",
            "Salary          object\n",
            "Joining_Date    object\n",
            "dtype: object\n",
            "\n",
            "Cleaned Dataset:\n",
            "   EmployeeID     Name  Salary Joining_Date\n",
            "0           1    Alice   50000   2023-01-15\n",
            "1           2      Bob   60000   2022-11-20\n",
            "2           3  Charlie   55000   2021-07-05\n",
            "3           4    David   75000   2020-03-10\n",
            "\n",
            "Corrected Data Types:\n",
            "EmployeeID               int64\n",
            "Name                    object\n",
            "Salary                   int64\n",
            "Joining_Date    datetime64[ns]\n",
            "dtype: object\n"
          ]
        }
      ]
    },
    {
      "cell_type": "code",
      "source": [],
      "metadata": {
        "id": "hn6aPl__8_5S"
      },
      "execution_count": null,
      "outputs": []
    }
  ]
}